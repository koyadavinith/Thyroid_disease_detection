{
 "cells": [
  {
   "cell_type": "code",
   "execution_count": 1,
   "id": "6351c1e0",
   "metadata": {
    "execution": {
     "iopub.execute_input": "2022-10-19T05:59:26.949496Z",
     "iopub.status.busy": "2022-10-19T05:59:26.948972Z",
     "iopub.status.idle": "2022-10-19T05:59:28.216955Z",
     "shell.execute_reply": "2022-10-19T05:59:28.215648Z"
    },
    "papermill": {
     "duration": 1.284245,
     "end_time": "2022-10-19T05:59:28.220083",
     "exception": false,
     "start_time": "2022-10-19T05:59:26.935838",
     "status": "completed"
    },
    "tags": []
   },
   "outputs": [],
   "source": [
    "import pandas as pd\n",
    "import numpy as np\n",
    "import seaborn as sns\n",
    "import matplotlib.pyplot as plt"
   ]
  },
  {
   "cell_type": "markdown",
   "id": "369d8b7c",
   "metadata": {
    "papermill": {
     "duration": 0.008965,
     "end_time": "2022-10-19T05:59:28.238852",
     "exception": false,
     "start_time": "2022-10-19T05:59:28.229887",
     "status": "completed"
    },
    "tags": []
   },
   "source": [
    "# Importing_datasets"
   ]
  },
  {
   "cell_type": "code",
   "execution_count": 2,
   "id": "c77d17b1",
   "metadata": {
    "execution": {
     "iopub.execute_input": "2022-10-19T05:59:28.259762Z",
     "iopub.status.busy": "2022-10-19T05:59:28.259008Z",
     "iopub.status.idle": "2022-10-19T05:59:28.386288Z",
     "shell.execute_reply": "2022-10-19T05:59:28.385000Z"
    },
    "papermill": {
     "duration": 0.141551,
     "end_time": "2022-10-19T05:59:28.389577",
     "exception": false,
     "start_time": "2022-10-19T05:59:28.248026",
     "status": "completed"
    },
    "tags": []
   },
   "outputs": [
    {
     "data": {
      "text/html": [
       "<div>\n",
       "<style scoped>\n",
       "    .dataframe tbody tr th:only-of-type {\n",
       "        vertical-align: middle;\n",
       "    }\n",
       "\n",
       "    .dataframe tbody tr th {\n",
       "        vertical-align: top;\n",
       "    }\n",
       "\n",
       "    .dataframe thead th {\n",
       "        text-align: right;\n",
       "    }\n",
       "</style>\n",
       "<table border=\"1\" class=\"dataframe\">\n",
       "  <thead>\n",
       "    <tr style=\"text-align: right;\">\n",
       "      <th></th>\n",
       "      <th>age</th>\n",
       "      <th>sex</th>\n",
       "      <th>on thyroxine</th>\n",
       "      <th>query on thyroxine</th>\n",
       "      <th>on antithyroid medication</th>\n",
       "      <th>sick</th>\n",
       "      <th>pregnant</th>\n",
       "      <th>thyroid surgery</th>\n",
       "      <th>I131 treatment</th>\n",
       "      <th>query hypothyroid</th>\n",
       "      <th>...</th>\n",
       "      <th>TT4 measured</th>\n",
       "      <th>TT4</th>\n",
       "      <th>T4U measured</th>\n",
       "      <th>T4U</th>\n",
       "      <th>FTI measured</th>\n",
       "      <th>FTI</th>\n",
       "      <th>TBG measured</th>\n",
       "      <th>TBG</th>\n",
       "      <th>referral source</th>\n",
       "      <th>target</th>\n",
       "    </tr>\n",
       "  </thead>\n",
       "  <tbody>\n",
       "    <tr>\n",
       "      <th>0</th>\n",
       "      <td>29</td>\n",
       "      <td>F</td>\n",
       "      <td>f</td>\n",
       "      <td>f</td>\n",
       "      <td>f</td>\n",
       "      <td>f</td>\n",
       "      <td>f</td>\n",
       "      <td>f</td>\n",
       "      <td>f</td>\n",
       "      <td>t</td>\n",
       "      <td>...</td>\n",
       "      <td>f</td>\n",
       "      <td>?</td>\n",
       "      <td>f</td>\n",
       "      <td>?</td>\n",
       "      <td>f</td>\n",
       "      <td>?</td>\n",
       "      <td>f</td>\n",
       "      <td>?</td>\n",
       "      <td>other</td>\n",
       "      <td>-[840801013]</td>\n",
       "    </tr>\n",
       "    <tr>\n",
       "      <th>1</th>\n",
       "      <td>29</td>\n",
       "      <td>F</td>\n",
       "      <td>f</td>\n",
       "      <td>f</td>\n",
       "      <td>f</td>\n",
       "      <td>f</td>\n",
       "      <td>f</td>\n",
       "      <td>f</td>\n",
       "      <td>f</td>\n",
       "      <td>f</td>\n",
       "      <td>...</td>\n",
       "      <td>t</td>\n",
       "      <td>128</td>\n",
       "      <td>f</td>\n",
       "      <td>?</td>\n",
       "      <td>f</td>\n",
       "      <td>?</td>\n",
       "      <td>f</td>\n",
       "      <td>?</td>\n",
       "      <td>other</td>\n",
       "      <td>-[840801014]</td>\n",
       "    </tr>\n",
       "    <tr>\n",
       "      <th>2</th>\n",
       "      <td>41</td>\n",
       "      <td>F</td>\n",
       "      <td>f</td>\n",
       "      <td>f</td>\n",
       "      <td>f</td>\n",
       "      <td>f</td>\n",
       "      <td>f</td>\n",
       "      <td>f</td>\n",
       "      <td>f</td>\n",
       "      <td>f</td>\n",
       "      <td>...</td>\n",
       "      <td>f</td>\n",
       "      <td>?</td>\n",
       "      <td>f</td>\n",
       "      <td>?</td>\n",
       "      <td>f</td>\n",
       "      <td>?</td>\n",
       "      <td>t</td>\n",
       "      <td>11</td>\n",
       "      <td>other</td>\n",
       "      <td>-[840801042]</td>\n",
       "    </tr>\n",
       "    <tr>\n",
       "      <th>3</th>\n",
       "      <td>36</td>\n",
       "      <td>F</td>\n",
       "      <td>f</td>\n",
       "      <td>f</td>\n",
       "      <td>f</td>\n",
       "      <td>f</td>\n",
       "      <td>f</td>\n",
       "      <td>f</td>\n",
       "      <td>f</td>\n",
       "      <td>f</td>\n",
       "      <td>...</td>\n",
       "      <td>f</td>\n",
       "      <td>?</td>\n",
       "      <td>f</td>\n",
       "      <td>?</td>\n",
       "      <td>f</td>\n",
       "      <td>?</td>\n",
       "      <td>t</td>\n",
       "      <td>26</td>\n",
       "      <td>other</td>\n",
       "      <td>-[840803046]</td>\n",
       "    </tr>\n",
       "    <tr>\n",
       "      <th>4</th>\n",
       "      <td>32</td>\n",
       "      <td>F</td>\n",
       "      <td>f</td>\n",
       "      <td>f</td>\n",
       "      <td>f</td>\n",
       "      <td>f</td>\n",
       "      <td>f</td>\n",
       "      <td>f</td>\n",
       "      <td>f</td>\n",
       "      <td>f</td>\n",
       "      <td>...</td>\n",
       "      <td>f</td>\n",
       "      <td>?</td>\n",
       "      <td>f</td>\n",
       "      <td>?</td>\n",
       "      <td>f</td>\n",
       "      <td>?</td>\n",
       "      <td>t</td>\n",
       "      <td>36</td>\n",
       "      <td>other</td>\n",
       "      <td>S[840803047]</td>\n",
       "    </tr>\n",
       "  </tbody>\n",
       "</table>\n",
       "<p>5 rows × 30 columns</p>\n",
       "</div>"
      ],
      "text/plain": [
       "   age sex on thyroxine query on thyroxine on antithyroid medication sick  \\\n",
       "0   29   F            f                  f                         f    f   \n",
       "1   29   F            f                  f                         f    f   \n",
       "2   41   F            f                  f                         f    f   \n",
       "3   36   F            f                  f                         f    f   \n",
       "4   32   F            f                  f                         f    f   \n",
       "\n",
       "  pregnant thyroid surgery I131 treatment query hypothyroid  ... TT4 measured  \\\n",
       "0        f               f              f                 t  ...            f   \n",
       "1        f               f              f                 f  ...            t   \n",
       "2        f               f              f                 f  ...            f   \n",
       "3        f               f              f                 f  ...            f   \n",
       "4        f               f              f                 f  ...            f   \n",
       "\n",
       "   TT4 T4U measured T4U FTI measured FTI TBG measured TBG referral source  \\\n",
       "0    ?            f   ?            f   ?            f   ?           other   \n",
       "1  128            f   ?            f   ?            f   ?           other   \n",
       "2    ?            f   ?            f   ?            t  11           other   \n",
       "3    ?            f   ?            f   ?            t  26           other   \n",
       "4    ?            f   ?            f   ?            t  36           other   \n",
       "\n",
       "         target  \n",
       "0  -[840801013]  \n",
       "1  -[840801014]  \n",
       "2  -[840801042]  \n",
       "3  -[840803046]  \n",
       "4  S[840803047]  \n",
       "\n",
       "[5 rows x 30 columns]"
      ]
     },
     "execution_count": 2,
     "metadata": {},
     "output_type": "execute_result"
    }
   ],
   "source": [
    "data  = pd.read_csv('../input/thyroid-disease-dataset/thyroid_dataset',index_col= 0)\n",
    "data.head()"
   ]
  },
  {
   "cell_type": "code",
   "execution_count": 3,
   "id": "6caa6936",
   "metadata": {
    "execution": {
     "iopub.execute_input": "2022-10-19T05:59:28.412646Z",
     "iopub.status.busy": "2022-10-19T05:59:28.412203Z",
     "iopub.status.idle": "2022-10-19T05:59:28.419761Z",
     "shell.execute_reply": "2022-10-19T05:59:28.418524Z"
    },
    "papermill": {
     "duration": 0.021089,
     "end_time": "2022-10-19T05:59:28.422045",
     "exception": false,
     "start_time": "2022-10-19T05:59:28.400956",
     "status": "completed"
    },
    "tags": []
   },
   "outputs": [
    {
     "data": {
      "text/plain": [
       "(9172, 30)"
      ]
     },
     "execution_count": 3,
     "metadata": {},
     "output_type": "execute_result"
    }
   ],
   "source": [
    "data.shape"
   ]
  },
  {
   "cell_type": "markdown",
   "id": "b9e9e750",
   "metadata": {
    "papermill": {
     "duration": 0.00991,
     "end_time": "2022-10-19T05:59:28.442666",
     "exception": false,
     "start_time": "2022-10-19T05:59:28.432756",
     "status": "completed"
    },
    "tags": []
   },
   "source": [
    "# Data_cleaning"
   ]
  },
  {
   "cell_type": "markdown",
   "id": "7906b6e3",
   "metadata": {
    "papermill": {
     "duration": 0.010044,
     "end_time": "2022-10-19T05:59:28.462647",
     "exception": false,
     "start_time": "2022-10-19T05:59:28.452603",
     "status": "completed"
    },
    "tags": []
   },
   "source": [
    "## Splitting_target"
   ]
  },
  {
   "cell_type": "code",
   "execution_count": 4,
   "id": "649983c6",
   "metadata": {
    "execution": {
     "iopub.execute_input": "2022-10-19T05:59:28.484301Z",
     "iopub.status.busy": "2022-10-19T05:59:28.483885Z",
     "iopub.status.idle": "2022-10-19T05:59:28.496161Z",
     "shell.execute_reply": "2022-10-19T05:59:28.495029Z"
    },
    "papermill": {
     "duration": 0.025862,
     "end_time": "2022-10-19T05:59:28.498427",
     "exception": false,
     "start_time": "2022-10-19T05:59:28.472565",
     "status": "completed"
    },
    "tags": []
   },
   "outputs": [],
   "source": [
    "data.target = data.target.apply(lambda x : x.split('[')[0])"
   ]
  },
  {
   "cell_type": "code",
   "execution_count": 5,
   "id": "24396cd9",
   "metadata": {
    "execution": {
     "iopub.execute_input": "2022-10-19T05:59:28.520268Z",
     "iopub.status.busy": "2022-10-19T05:59:28.519863Z",
     "iopub.status.idle": "2022-10-19T05:59:28.530057Z",
     "shell.execute_reply": "2022-10-19T05:59:28.529222Z"
    },
    "papermill": {
     "duration": 0.024051,
     "end_time": "2022-10-19T05:59:28.532433",
     "exception": false,
     "start_time": "2022-10-19T05:59:28.508382",
     "status": "completed"
    },
    "tags": []
   },
   "outputs": [
    {
     "data": {
      "text/plain": [
       "-      6771\n",
       "K       436\n",
       "G       359\n",
       "I       346\n",
       "F       233\n",
       "R       196\n",
       "A       147\n",
       "L       115\n",
       "M       111\n",
       "N       110\n",
       "S        85\n",
       "GK       49\n",
       "AK       46\n",
       "J        30\n",
       "B        21\n",
       "MK       16\n",
       "Q        14\n",
       "O        14\n",
       "C|I      12\n",
       "KJ       11\n",
       "GI       10\n",
       "H|K       8\n",
       "D         8\n",
       "FK        6\n",
       "C         6\n",
       "P         5\n",
       "MI        2\n",
       "LJ        1\n",
       "GKJ       1\n",
       "OI        1\n",
       "D|R       1\n",
       "E         1\n",
       "Name: target, dtype: int64"
      ]
     },
     "execution_count": 5,
     "metadata": {},
     "output_type": "execute_result"
    }
   ],
   "source": [
    "data.target.value_counts()"
   ]
  },
  {
   "cell_type": "code",
   "execution_count": 6,
   "id": "d8ab5981",
   "metadata": {
    "execution": {
     "iopub.execute_input": "2022-10-19T05:59:28.554441Z",
     "iopub.status.busy": "2022-10-19T05:59:28.553947Z",
     "iopub.status.idle": "2022-10-19T05:59:28.562706Z",
     "shell.execute_reply": "2022-10-19T05:59:28.561386Z"
    },
    "papermill": {
     "duration": 0.022533,
     "end_time": "2022-10-19T05:59:28.565064",
     "exception": false,
     "start_time": "2022-10-19T05:59:28.542531",
     "status": "completed"
    },
    "tags": []
   },
   "outputs": [
    {
     "data": {
      "text/plain": [
       "array(['-', 'S', 'F', 'AK', 'R', 'I', 'M', 'N', 'G', 'K', 'A', 'KJ', 'L',\n",
       "       'MK', 'Q', 'J', 'C|I', 'O', 'LJ', 'H|K', 'D', 'GK', 'MI', 'P',\n",
       "       'FK', 'B', 'GI', 'C', 'GKJ', 'OI', 'D|R', 'E'], dtype=object)"
      ]
     },
     "execution_count": 6,
     "metadata": {},
     "output_type": "execute_result"
    }
   ],
   "source": [
    "data['target'].unique()"
   ]
  },
  {
   "cell_type": "code",
   "execution_count": 7,
   "id": "6891c625",
   "metadata": {
    "execution": {
     "iopub.execute_input": "2022-10-19T05:59:28.587196Z",
     "iopub.status.busy": "2022-10-19T05:59:28.586793Z",
     "iopub.status.idle": "2022-10-19T05:59:28.604557Z",
     "shell.execute_reply": "2022-10-19T05:59:28.603618Z"
    },
    "papermill": {
     "duration": 0.031739,
     "end_time": "2022-10-19T05:59:28.606950",
     "exception": false,
     "start_time": "2022-10-19T05:59:28.575211",
     "status": "completed"
    },
    "tags": []
   },
   "outputs": [],
   "source": [
    "data = data.replace('?',np.NaN)"
   ]
  },
  {
   "cell_type": "code",
   "execution_count": 8,
   "id": "625cc307",
   "metadata": {
    "execution": {
     "iopub.execute_input": "2022-10-19T05:59:28.629150Z",
     "iopub.status.busy": "2022-10-19T05:59:28.628704Z",
     "iopub.status.idle": "2022-10-19T05:59:28.656976Z",
     "shell.execute_reply": "2022-10-19T05:59:28.655875Z"
    },
    "papermill": {
     "duration": 0.042153,
     "end_time": "2022-10-19T05:59:28.659261",
     "exception": false,
     "start_time": "2022-10-19T05:59:28.617108",
     "status": "completed"
    },
    "tags": []
   },
   "outputs": [
    {
     "data": {
      "text/plain": [
       "age                             0\n",
       "sex                           307\n",
       "on thyroxine                    0\n",
       "query on thyroxine              0\n",
       "on antithyroid medication       0\n",
       "sick                            0\n",
       "pregnant                        0\n",
       "thyroid surgery                 0\n",
       "I131 treatment                  0\n",
       "query hypothyroid               0\n",
       "query hyperthyroid              0\n",
       "lithium                         0\n",
       "goitre                          0\n",
       "tumor                           0\n",
       "hypopituitary                   0\n",
       "psych                           0\n",
       "TSH measured                    0\n",
       "TSH                           842\n",
       "T3 measured                     0\n",
       "T3                           2604\n",
       "TT4 measured                    0\n",
       "TT4                           442\n",
       "T4U measured                    0\n",
       "T4U                           809\n",
       "FTI measured                    0\n",
       "FTI                           802\n",
       "TBG measured                    0\n",
       "TBG                          8823\n",
       "referral source                 0\n",
       "target                          0\n",
       "dtype: int64"
      ]
     },
     "execution_count": 8,
     "metadata": {},
     "output_type": "execute_result"
    }
   ],
   "source": [
    "data.isna().sum()"
   ]
  },
  {
   "cell_type": "code",
   "execution_count": 9,
   "id": "9b3e802e",
   "metadata": {
    "execution": {
     "iopub.execute_input": "2022-10-19T05:59:28.681804Z",
     "iopub.status.busy": "2022-10-19T05:59:28.681309Z",
     "iopub.status.idle": "2022-10-19T05:59:28.687961Z",
     "shell.execute_reply": "2022-10-19T05:59:28.686673Z"
    },
    "papermill": {
     "duration": 0.020883,
     "end_time": "2022-10-19T05:59:28.690426",
     "exception": false,
     "start_time": "2022-10-19T05:59:28.669543",
     "status": "completed"
    },
    "tags": []
   },
   "outputs": [],
   "source": [
    "y = data['target'] "
   ]
  },
  {
   "cell_type": "code",
   "execution_count": 10,
   "id": "4dac4d67",
   "metadata": {
    "execution": {
     "iopub.execute_input": "2022-10-19T05:59:28.713022Z",
     "iopub.status.busy": "2022-10-19T05:59:28.712587Z",
     "iopub.status.idle": "2022-10-19T05:59:28.718942Z",
     "shell.execute_reply": "2022-10-19T05:59:28.717729Z"
    },
    "papermill": {
     "duration": 0.020622,
     "end_time": "2022-10-19T05:59:28.721423",
     "exception": false,
     "start_time": "2022-10-19T05:59:28.700801",
     "status": "completed"
    },
    "tags": []
   },
   "outputs": [],
   "source": [
    "del data['TBG']"
   ]
  },
  {
   "cell_type": "code",
   "execution_count": 11,
   "id": "97577a40",
   "metadata": {
    "execution": {
     "iopub.execute_input": "2022-10-19T05:59:28.744292Z",
     "iopub.status.busy": "2022-10-19T05:59:28.743851Z",
     "iopub.status.idle": "2022-10-19T05:59:28.754286Z",
     "shell.execute_reply": "2022-10-19T05:59:28.753120Z"
    },
    "papermill": {
     "duration": 0.024491,
     "end_time": "2022-10-19T05:59:28.756518",
     "exception": false,
     "start_time": "2022-10-19T05:59:28.732027",
     "status": "completed"
    },
    "tags": []
   },
   "outputs": [
    {
     "data": {
      "text/plain": [
       "F    6073\n",
       "M    2792\n",
       "Name: sex, dtype: int64"
      ]
     },
     "execution_count": 11,
     "metadata": {},
     "output_type": "execute_result"
    }
   ],
   "source": [
    "data.sex.value_counts()"
   ]
  },
  {
   "cell_type": "code",
   "execution_count": 12,
   "id": "081ec9cf",
   "metadata": {
    "execution": {
     "iopub.execute_input": "2022-10-19T05:59:28.779089Z",
     "iopub.status.busy": "2022-10-19T05:59:28.778691Z",
     "iopub.status.idle": "2022-10-19T05:59:28.802082Z",
     "shell.execute_reply": "2022-10-19T05:59:28.800987Z"
    },
    "papermill": {
     "duration": 0.038051,
     "end_time": "2022-10-19T05:59:28.804901",
     "exception": false,
     "start_time": "2022-10-19T05:59:28.766850",
     "status": "completed"
    },
    "tags": []
   },
   "outputs": [],
   "source": [
    "data.drop('target',axis = 1,inplace = True)"
   ]
  },
  {
   "cell_type": "code",
   "execution_count": 13,
   "id": "4b05f0fa",
   "metadata": {
    "execution": {
     "iopub.execute_input": "2022-10-19T05:59:28.828769Z",
     "iopub.status.busy": "2022-10-19T05:59:28.827933Z",
     "iopub.status.idle": "2022-10-19T05:59:28.926935Z",
     "shell.execute_reply": "2022-10-19T05:59:28.925837Z"
    },
    "papermill": {
     "duration": 0.114073,
     "end_time": "2022-10-19T05:59:28.929591",
     "exception": false,
     "start_time": "2022-10-19T05:59:28.815518",
     "status": "completed"
    },
    "tags": []
   },
   "outputs": [],
   "source": [
    "data = data.replace({'F':1,'M':0,'f':0,'t':1})"
   ]
  },
  {
   "cell_type": "code",
   "execution_count": 14,
   "id": "6260f596",
   "metadata": {
    "execution": {
     "iopub.execute_input": "2022-10-19T05:59:28.952668Z",
     "iopub.status.busy": "2022-10-19T05:59:28.951937Z",
     "iopub.status.idle": "2022-10-19T05:59:28.958693Z",
     "shell.execute_reply": "2022-10-19T05:59:28.957614Z"
    },
    "papermill": {
     "duration": 0.021089,
     "end_time": "2022-10-19T05:59:28.961052",
     "exception": false,
     "start_time": "2022-10-19T05:59:28.939963",
     "status": "completed"
    },
    "tags": []
   },
   "outputs": [
    {
     "data": {
      "text/plain": [
       "Index(['age', 'sex', 'on thyroxine', 'query on thyroxine',\n",
       "       'on antithyroid medication', 'sick', 'pregnant', 'thyroid surgery',\n",
       "       'I131 treatment', 'query hypothyroid', 'query hyperthyroid', 'lithium',\n",
       "       'goitre', 'tumor', 'hypopituitary', 'psych', 'TSH measured', 'TSH',\n",
       "       'T3 measured', 'T3', 'TT4 measured', 'TT4', 'T4U measured', 'T4U',\n",
       "       'FTI measured', 'FTI', 'TBG measured', 'referral source'],\n",
       "      dtype='object')"
      ]
     },
     "execution_count": 14,
     "metadata": {},
     "output_type": "execute_result"
    }
   ],
   "source": [
    "data.columns"
   ]
  },
  {
   "cell_type": "markdown",
   "id": "de9b3df8",
   "metadata": {
    "papermill": {
     "duration": 0.010149,
     "end_time": "2022-10-19T05:59:28.981717",
     "exception": false,
     "start_time": "2022-10-19T05:59:28.971568",
     "status": "completed"
    },
    "tags": []
   },
   "source": [
    "# Feture_selection"
   ]
  },
  {
   "cell_type": "code",
   "execution_count": 15,
   "id": "258a65cc",
   "metadata": {
    "execution": {
     "iopub.execute_input": "2022-10-19T05:59:29.004756Z",
     "iopub.status.busy": "2022-10-19T05:59:29.004302Z",
     "iopub.status.idle": "2022-10-19T05:59:29.014242Z",
     "shell.execute_reply": "2022-10-19T05:59:29.013178Z"
    },
    "papermill": {
     "duration": 0.024496,
     "end_time": "2022-10-19T05:59:29.016642",
     "exception": false,
     "start_time": "2022-10-19T05:59:28.992146",
     "status": "completed"
    },
    "tags": []
   },
   "outputs": [],
   "source": [
    "to_drop = ['TSH measured','TBG measured',\n",
    "       'T3 measured', 'TT4 measured','T4U measured',\n",
    "       'FTI measured', 'TBG measured','referral source']\n",
    "data.drop(to_drop,axis = 1,inplace= True)"
   ]
  },
  {
   "cell_type": "code",
   "execution_count": 16,
   "id": "fe15f470",
   "metadata": {
    "execution": {
     "iopub.execute_input": "2022-10-19T05:59:29.039811Z",
     "iopub.status.busy": "2022-10-19T05:59:29.039399Z",
     "iopub.status.idle": "2022-10-19T05:59:29.048841Z",
     "shell.execute_reply": "2022-10-19T05:59:29.047737Z"
    },
    "papermill": {
     "duration": 0.024039,
     "end_time": "2022-10-19T05:59:29.051170",
     "exception": false,
     "start_time": "2022-10-19T05:59:29.027131",
     "status": "completed"
    },
    "tags": []
   },
   "outputs": [
    {
     "data": {
      "text/plain": [
       "0"
      ]
     },
     "execution_count": 16,
     "metadata": {},
     "output_type": "execute_result"
    }
   ],
   "source": [
    "mean_age = round(data['age'].mean())\n",
    "data['age'].fillna(mean_age,inplace = True)\n",
    "data['age'].isna().sum()"
   ]
  },
  {
   "cell_type": "code",
   "execution_count": 17,
   "id": "e128bac7",
   "metadata": {
    "execution": {
     "iopub.execute_input": "2022-10-19T05:59:29.076113Z",
     "iopub.status.busy": "2022-10-19T05:59:29.075325Z",
     "iopub.status.idle": "2022-10-19T05:59:29.084083Z",
     "shell.execute_reply": "2022-10-19T05:59:29.083239Z"
    },
    "papermill": {
     "duration": 0.022577,
     "end_time": "2022-10-19T05:59:29.086085",
     "exception": false,
     "start_time": "2022-10-19T05:59:29.063508",
     "status": "completed"
    },
    "tags": []
   },
   "outputs": [
    {
     "data": {
      "text/plain": [
       "0"
      ]
     },
     "execution_count": 17,
     "metadata": {},
     "output_type": "execute_result"
    }
   ],
   "source": [
    "data['sex'].fillna(1,inplace= True)\n",
    "data['sex'].isna().sum()"
   ]
  },
  {
   "cell_type": "code",
   "execution_count": 18,
   "id": "bec03af8",
   "metadata": {
    "execution": {
     "iopub.execute_input": "2022-10-19T05:59:29.109767Z",
     "iopub.status.busy": "2022-10-19T05:59:29.109373Z",
     "iopub.status.idle": "2022-10-19T05:59:29.484921Z",
     "shell.execute_reply": "2022-10-19T05:59:29.483873Z"
    },
    "papermill": {
     "duration": 0.391033,
     "end_time": "2022-10-19T05:59:29.487783",
     "exception": false,
     "start_time": "2022-10-19T05:59:29.096750",
     "status": "completed"
    },
    "tags": []
   },
   "outputs": [],
   "source": [
    "from sklearn.impute import KNNImputer\n",
    "knnimp = KNNImputer(n_neighbors= 5)"
   ]
  },
  {
   "cell_type": "markdown",
   "id": "0eeb5ff6",
   "metadata": {
    "papermill": {
     "duration": 0.010483,
     "end_time": "2022-10-19T05:59:29.509118",
     "exception": false,
     "start_time": "2022-10-19T05:59:29.498635",
     "status": "completed"
    },
    "tags": []
   },
   "source": []
  },
  {
   "cell_type": "code",
   "execution_count": 19,
   "id": "63a98c14",
   "metadata": {
    "execution": {
     "iopub.execute_input": "2022-10-19T05:59:29.532876Z",
     "iopub.status.busy": "2022-10-19T05:59:29.532458Z",
     "iopub.status.idle": "2022-10-19T05:59:29.538856Z",
     "shell.execute_reply": "2022-10-19T05:59:29.538030Z"
    },
    "papermill": {
     "duration": 0.021229,
     "end_time": "2022-10-19T05:59:29.541069",
     "exception": false,
     "start_time": "2022-10-19T05:59:29.519840",
     "status": "completed"
    },
    "tags": []
   },
   "outputs": [
    {
     "data": {
      "text/plain": [
       "Index(['age', 'sex', 'on thyroxine', 'query on thyroxine',\n",
       "       'on antithyroid medication', 'sick', 'pregnant', 'thyroid surgery',\n",
       "       'I131 treatment', 'query hypothyroid', 'query hyperthyroid', 'lithium',\n",
       "       'goitre', 'tumor', 'hypopituitary', 'psych', 'TSH', 'T3', 'TT4', 'T4U',\n",
       "       'FTI'],\n",
       "      dtype='object')"
      ]
     },
     "execution_count": 19,
     "metadata": {},
     "output_type": "execute_result"
    }
   ],
   "source": [
    "data.columns"
   ]
  },
  {
   "cell_type": "code",
   "execution_count": 20,
   "id": "9d2a21e8",
   "metadata": {
    "execution": {
     "iopub.execute_input": "2022-10-19T05:59:29.565169Z",
     "iopub.status.busy": "2022-10-19T05:59:29.564713Z",
     "iopub.status.idle": "2022-10-19T05:59:32.659976Z",
     "shell.execute_reply": "2022-10-19T05:59:32.658691Z"
    },
    "papermill": {
     "duration": 3.110622,
     "end_time": "2022-10-19T05:59:32.662945",
     "exception": false,
     "start_time": "2022-10-19T05:59:29.552323",
     "status": "completed"
    },
    "tags": []
   },
   "outputs": [],
   "source": [
    "nan_cols = ['TSH','T3','TT4','T4U','FTI']\n",
    "for i in nan_cols:\n",
    "    data[i] = knnimp.fit_transform(data[[i]])"
   ]
  },
  {
   "cell_type": "code",
   "execution_count": 21,
   "id": "c29e90fc",
   "metadata": {
    "execution": {
     "iopub.execute_input": "2022-10-19T05:59:32.686973Z",
     "iopub.status.busy": "2022-10-19T05:59:32.686569Z",
     "iopub.status.idle": "2022-10-19T05:59:32.691481Z",
     "shell.execute_reply": "2022-10-19T05:59:32.690364Z"
    },
    "papermill": {
     "duration": 0.019784,
     "end_time": "2022-10-19T05:59:32.693680",
     "exception": false,
     "start_time": "2022-10-19T05:59:32.673896",
     "status": "completed"
    },
    "tags": []
   },
   "outputs": [],
   "source": [
    "pd.set_option('display.max_columns',None)"
   ]
  },
  {
   "cell_type": "code",
   "execution_count": 22,
   "id": "28549cf7",
   "metadata": {
    "execution": {
     "iopub.execute_input": "2022-10-19T05:59:32.716887Z",
     "iopub.status.busy": "2022-10-19T05:59:32.716475Z",
     "iopub.status.idle": "2022-10-19T05:59:32.745687Z",
     "shell.execute_reply": "2022-10-19T05:59:32.744525Z"
    },
    "papermill": {
     "duration": 0.043739,
     "end_time": "2022-10-19T05:59:32.747988",
     "exception": false,
     "start_time": "2022-10-19T05:59:32.704249",
     "status": "completed"
    },
    "tags": []
   },
   "outputs": [
    {
     "data": {
      "text/html": [
       "<div>\n",
       "<style scoped>\n",
       "    .dataframe tbody tr th:only-of-type {\n",
       "        vertical-align: middle;\n",
       "    }\n",
       "\n",
       "    .dataframe tbody tr th {\n",
       "        vertical-align: top;\n",
       "    }\n",
       "\n",
       "    .dataframe thead th {\n",
       "        text-align: right;\n",
       "    }\n",
       "</style>\n",
       "<table border=\"1\" class=\"dataframe\">\n",
       "  <thead>\n",
       "    <tr style=\"text-align: right;\">\n",
       "      <th></th>\n",
       "      <th>age</th>\n",
       "      <th>sex</th>\n",
       "      <th>on thyroxine</th>\n",
       "      <th>query on thyroxine</th>\n",
       "      <th>on antithyroid medication</th>\n",
       "      <th>sick</th>\n",
       "      <th>pregnant</th>\n",
       "      <th>thyroid surgery</th>\n",
       "      <th>I131 treatment</th>\n",
       "      <th>query hypothyroid</th>\n",
       "      <th>query hyperthyroid</th>\n",
       "      <th>lithium</th>\n",
       "      <th>goitre</th>\n",
       "      <th>tumor</th>\n",
       "      <th>hypopituitary</th>\n",
       "      <th>psych</th>\n",
       "      <th>TSH</th>\n",
       "      <th>T3</th>\n",
       "      <th>TT4</th>\n",
       "      <th>T4U</th>\n",
       "      <th>FTI</th>\n",
       "    </tr>\n",
       "  </thead>\n",
       "  <tbody>\n",
       "    <tr>\n",
       "      <th>0</th>\n",
       "      <td>29</td>\n",
       "      <td>1.0</td>\n",
       "      <td>0</td>\n",
       "      <td>0</td>\n",
       "      <td>0</td>\n",
       "      <td>0</td>\n",
       "      <td>0</td>\n",
       "      <td>0</td>\n",
       "      <td>0</td>\n",
       "      <td>1</td>\n",
       "      <td>0</td>\n",
       "      <td>0</td>\n",
       "      <td>0</td>\n",
       "      <td>0</td>\n",
       "      <td>0</td>\n",
       "      <td>0</td>\n",
       "      <td>0.300000</td>\n",
       "      <td>1.970629</td>\n",
       "      <td>108.700305</td>\n",
       "      <td>0.976056</td>\n",
       "      <td>113.640746</td>\n",
       "    </tr>\n",
       "    <tr>\n",
       "      <th>1</th>\n",
       "      <td>29</td>\n",
       "      <td>1.0</td>\n",
       "      <td>0</td>\n",
       "      <td>0</td>\n",
       "      <td>0</td>\n",
       "      <td>0</td>\n",
       "      <td>0</td>\n",
       "      <td>0</td>\n",
       "      <td>0</td>\n",
       "      <td>0</td>\n",
       "      <td>0</td>\n",
       "      <td>0</td>\n",
       "      <td>0</td>\n",
       "      <td>0</td>\n",
       "      <td>0</td>\n",
       "      <td>0</td>\n",
       "      <td>1.600000</td>\n",
       "      <td>1.900000</td>\n",
       "      <td>128.000000</td>\n",
       "      <td>0.976056</td>\n",
       "      <td>113.640746</td>\n",
       "    </tr>\n",
       "    <tr>\n",
       "      <th>2</th>\n",
       "      <td>41</td>\n",
       "      <td>1.0</td>\n",
       "      <td>0</td>\n",
       "      <td>0</td>\n",
       "      <td>0</td>\n",
       "      <td>0</td>\n",
       "      <td>0</td>\n",
       "      <td>0</td>\n",
       "      <td>0</td>\n",
       "      <td>0</td>\n",
       "      <td>1</td>\n",
       "      <td>0</td>\n",
       "      <td>0</td>\n",
       "      <td>0</td>\n",
       "      <td>0</td>\n",
       "      <td>0</td>\n",
       "      <td>5.218403</td>\n",
       "      <td>1.970629</td>\n",
       "      <td>108.700305</td>\n",
       "      <td>0.976056</td>\n",
       "      <td>113.640746</td>\n",
       "    </tr>\n",
       "    <tr>\n",
       "      <th>3</th>\n",
       "      <td>36</td>\n",
       "      <td>1.0</td>\n",
       "      <td>0</td>\n",
       "      <td>0</td>\n",
       "      <td>0</td>\n",
       "      <td>0</td>\n",
       "      <td>0</td>\n",
       "      <td>0</td>\n",
       "      <td>0</td>\n",
       "      <td>0</td>\n",
       "      <td>0</td>\n",
       "      <td>0</td>\n",
       "      <td>0</td>\n",
       "      <td>0</td>\n",
       "      <td>0</td>\n",
       "      <td>0</td>\n",
       "      <td>5.218403</td>\n",
       "      <td>1.970629</td>\n",
       "      <td>108.700305</td>\n",
       "      <td>0.976056</td>\n",
       "      <td>113.640746</td>\n",
       "    </tr>\n",
       "    <tr>\n",
       "      <th>4</th>\n",
       "      <td>32</td>\n",
       "      <td>1.0</td>\n",
       "      <td>0</td>\n",
       "      <td>0</td>\n",
       "      <td>0</td>\n",
       "      <td>0</td>\n",
       "      <td>0</td>\n",
       "      <td>0</td>\n",
       "      <td>0</td>\n",
       "      <td>0</td>\n",
       "      <td>0</td>\n",
       "      <td>0</td>\n",
       "      <td>0</td>\n",
       "      <td>0</td>\n",
       "      <td>0</td>\n",
       "      <td>0</td>\n",
       "      <td>5.218403</td>\n",
       "      <td>1.970629</td>\n",
       "      <td>108.700305</td>\n",
       "      <td>0.976056</td>\n",
       "      <td>113.640746</td>\n",
       "    </tr>\n",
       "    <tr>\n",
       "      <th>5</th>\n",
       "      <td>60</td>\n",
       "      <td>1.0</td>\n",
       "      <td>0</td>\n",
       "      <td>0</td>\n",
       "      <td>0</td>\n",
       "      <td>0</td>\n",
       "      <td>0</td>\n",
       "      <td>0</td>\n",
       "      <td>0</td>\n",
       "      <td>0</td>\n",
       "      <td>0</td>\n",
       "      <td>0</td>\n",
       "      <td>0</td>\n",
       "      <td>0</td>\n",
       "      <td>0</td>\n",
       "      <td>0</td>\n",
       "      <td>5.218403</td>\n",
       "      <td>1.970629</td>\n",
       "      <td>108.700305</td>\n",
       "      <td>0.976056</td>\n",
       "      <td>113.640746</td>\n",
       "    </tr>\n",
       "    <tr>\n",
       "      <th>6</th>\n",
       "      <td>77</td>\n",
       "      <td>1.0</td>\n",
       "      <td>0</td>\n",
       "      <td>0</td>\n",
       "      <td>0</td>\n",
       "      <td>0</td>\n",
       "      <td>0</td>\n",
       "      <td>0</td>\n",
       "      <td>0</td>\n",
       "      <td>0</td>\n",
       "      <td>0</td>\n",
       "      <td>0</td>\n",
       "      <td>0</td>\n",
       "      <td>0</td>\n",
       "      <td>0</td>\n",
       "      <td>0</td>\n",
       "      <td>5.218403</td>\n",
       "      <td>1.970629</td>\n",
       "      <td>108.700305</td>\n",
       "      <td>0.976056</td>\n",
       "      <td>113.640746</td>\n",
       "    </tr>\n",
       "    <tr>\n",
       "      <th>7</th>\n",
       "      <td>28</td>\n",
       "      <td>1.0</td>\n",
       "      <td>0</td>\n",
       "      <td>0</td>\n",
       "      <td>0</td>\n",
       "      <td>0</td>\n",
       "      <td>0</td>\n",
       "      <td>0</td>\n",
       "      <td>0</td>\n",
       "      <td>0</td>\n",
       "      <td>0</td>\n",
       "      <td>0</td>\n",
       "      <td>0</td>\n",
       "      <td>0</td>\n",
       "      <td>0</td>\n",
       "      <td>0</td>\n",
       "      <td>0.700000</td>\n",
       "      <td>2.600000</td>\n",
       "      <td>116.000000</td>\n",
       "      <td>0.976056</td>\n",
       "      <td>113.640746</td>\n",
       "    </tr>\n",
       "    <tr>\n",
       "      <th>8</th>\n",
       "      <td>28</td>\n",
       "      <td>1.0</td>\n",
       "      <td>0</td>\n",
       "      <td>0</td>\n",
       "      <td>0</td>\n",
       "      <td>0</td>\n",
       "      <td>0</td>\n",
       "      <td>0</td>\n",
       "      <td>0</td>\n",
       "      <td>0</td>\n",
       "      <td>0</td>\n",
       "      <td>0</td>\n",
       "      <td>0</td>\n",
       "      <td>0</td>\n",
       "      <td>0</td>\n",
       "      <td>0</td>\n",
       "      <td>1.200000</td>\n",
       "      <td>1.800000</td>\n",
       "      <td>76.000000</td>\n",
       "      <td>0.976056</td>\n",
       "      <td>113.640746</td>\n",
       "    </tr>\n",
       "    <tr>\n",
       "      <th>9</th>\n",
       "      <td>28</td>\n",
       "      <td>1.0</td>\n",
       "      <td>0</td>\n",
       "      <td>0</td>\n",
       "      <td>0</td>\n",
       "      <td>0</td>\n",
       "      <td>0</td>\n",
       "      <td>0</td>\n",
       "      <td>0</td>\n",
       "      <td>0</td>\n",
       "      <td>0</td>\n",
       "      <td>0</td>\n",
       "      <td>0</td>\n",
       "      <td>0</td>\n",
       "      <td>0</td>\n",
       "      <td>0</td>\n",
       "      <td>1.900000</td>\n",
       "      <td>1.700000</td>\n",
       "      <td>83.000000</td>\n",
       "      <td>0.976056</td>\n",
       "      <td>113.640746</td>\n",
       "    </tr>\n",
       "    <tr>\n",
       "      <th>10</th>\n",
       "      <td>54</td>\n",
       "      <td>1.0</td>\n",
       "      <td>0</td>\n",
       "      <td>0</td>\n",
       "      <td>0</td>\n",
       "      <td>0</td>\n",
       "      <td>0</td>\n",
       "      <td>0</td>\n",
       "      <td>0</td>\n",
       "      <td>0</td>\n",
       "      <td>0</td>\n",
       "      <td>0</td>\n",
       "      <td>0</td>\n",
       "      <td>0</td>\n",
       "      <td>0</td>\n",
       "      <td>0</td>\n",
       "      <td>1.900000</td>\n",
       "      <td>2.300000</td>\n",
       "      <td>133.000000</td>\n",
       "      <td>0.976056</td>\n",
       "      <td>113.640746</td>\n",
       "    </tr>\n",
       "    <tr>\n",
       "      <th>11</th>\n",
       "      <td>42</td>\n",
       "      <td>1.0</td>\n",
       "      <td>0</td>\n",
       "      <td>0</td>\n",
       "      <td>0</td>\n",
       "      <td>0</td>\n",
       "      <td>0</td>\n",
       "      <td>0</td>\n",
       "      <td>0</td>\n",
       "      <td>0</td>\n",
       "      <td>0</td>\n",
       "      <td>0</td>\n",
       "      <td>0</td>\n",
       "      <td>0</td>\n",
       "      <td>0</td>\n",
       "      <td>0</td>\n",
       "      <td>1.000000</td>\n",
       "      <td>1.800000</td>\n",
       "      <td>105.000000</td>\n",
       "      <td>0.976056</td>\n",
       "      <td>113.640746</td>\n",
       "    </tr>\n",
       "    <tr>\n",
       "      <th>12</th>\n",
       "      <td>51</td>\n",
       "      <td>0.0</td>\n",
       "      <td>1</td>\n",
       "      <td>0</td>\n",
       "      <td>0</td>\n",
       "      <td>0</td>\n",
       "      <td>0</td>\n",
       "      <td>0</td>\n",
       "      <td>0</td>\n",
       "      <td>0</td>\n",
       "      <td>0</td>\n",
       "      <td>0</td>\n",
       "      <td>0</td>\n",
       "      <td>0</td>\n",
       "      <td>0</td>\n",
       "      <td>0</td>\n",
       "      <td>0.500000</td>\n",
       "      <td>1.970629</td>\n",
       "      <td>108.700305</td>\n",
       "      <td>0.976056</td>\n",
       "      <td>113.640746</td>\n",
       "    </tr>\n",
       "    <tr>\n",
       "      <th>13</th>\n",
       "      <td>51</td>\n",
       "      <td>1.0</td>\n",
       "      <td>0</td>\n",
       "      <td>0</td>\n",
       "      <td>0</td>\n",
       "      <td>0</td>\n",
       "      <td>0</td>\n",
       "      <td>0</td>\n",
       "      <td>0</td>\n",
       "      <td>0</td>\n",
       "      <td>0</td>\n",
       "      <td>0</td>\n",
       "      <td>0</td>\n",
       "      <td>0</td>\n",
       "      <td>0</td>\n",
       "      <td>0</td>\n",
       "      <td>0.700000</td>\n",
       "      <td>2.400000</td>\n",
       "      <td>116.000000</td>\n",
       "      <td>0.976056</td>\n",
       "      <td>113.640746</td>\n",
       "    </tr>\n",
       "    <tr>\n",
       "      <th>14</th>\n",
       "      <td>37</td>\n",
       "      <td>1.0</td>\n",
       "      <td>0</td>\n",
       "      <td>0</td>\n",
       "      <td>0</td>\n",
       "      <td>0</td>\n",
       "      <td>0</td>\n",
       "      <td>0</td>\n",
       "      <td>0</td>\n",
       "      <td>0</td>\n",
       "      <td>0</td>\n",
       "      <td>0</td>\n",
       "      <td>0</td>\n",
       "      <td>1</td>\n",
       "      <td>0</td>\n",
       "      <td>0</td>\n",
       "      <td>5.218403</td>\n",
       "      <td>2.900000</td>\n",
       "      <td>108.700305</td>\n",
       "      <td>0.976056</td>\n",
       "      <td>113.640746</td>\n",
       "    </tr>\n",
       "    <tr>\n",
       "      <th>15</th>\n",
       "      <td>16</td>\n",
       "      <td>0.0</td>\n",
       "      <td>0</td>\n",
       "      <td>0</td>\n",
       "      <td>0</td>\n",
       "      <td>0</td>\n",
       "      <td>0</td>\n",
       "      <td>0</td>\n",
       "      <td>0</td>\n",
       "      <td>0</td>\n",
       "      <td>0</td>\n",
       "      <td>0</td>\n",
       "      <td>0</td>\n",
       "      <td>0</td>\n",
       "      <td>0</td>\n",
       "      <td>0</td>\n",
       "      <td>2.600000</td>\n",
       "      <td>1.970629</td>\n",
       "      <td>108.700305</td>\n",
       "      <td>0.976056</td>\n",
       "      <td>113.640746</td>\n",
       "    </tr>\n",
       "    <tr>\n",
       "      <th>16</th>\n",
       "      <td>54</td>\n",
       "      <td>1.0</td>\n",
       "      <td>0</td>\n",
       "      <td>0</td>\n",
       "      <td>0</td>\n",
       "      <td>0</td>\n",
       "      <td>0</td>\n",
       "      <td>0</td>\n",
       "      <td>0</td>\n",
       "      <td>0</td>\n",
       "      <td>0</td>\n",
       "      <td>0</td>\n",
       "      <td>0</td>\n",
       "      <td>0</td>\n",
       "      <td>0</td>\n",
       "      <td>0</td>\n",
       "      <td>1.000000</td>\n",
       "      <td>2.000000</td>\n",
       "      <td>122.000000</td>\n",
       "      <td>0.976056</td>\n",
       "      <td>113.640746</td>\n",
       "    </tr>\n",
       "    <tr>\n",
       "      <th>17</th>\n",
       "      <td>43</td>\n",
       "      <td>0.0</td>\n",
       "      <td>0</td>\n",
       "      <td>0</td>\n",
       "      <td>0</td>\n",
       "      <td>0</td>\n",
       "      <td>0</td>\n",
       "      <td>0</td>\n",
       "      <td>0</td>\n",
       "      <td>0</td>\n",
       "      <td>0</td>\n",
       "      <td>0</td>\n",
       "      <td>0</td>\n",
       "      <td>0</td>\n",
       "      <td>0</td>\n",
       "      <td>0</td>\n",
       "      <td>5.218403</td>\n",
       "      <td>2.100000</td>\n",
       "      <td>116.000000</td>\n",
       "      <td>0.976056</td>\n",
       "      <td>113.640746</td>\n",
       "    </tr>\n",
       "    <tr>\n",
       "      <th>18</th>\n",
       "      <td>63</td>\n",
       "      <td>1.0</td>\n",
       "      <td>1</td>\n",
       "      <td>0</td>\n",
       "      <td>0</td>\n",
       "      <td>1</td>\n",
       "      <td>0</td>\n",
       "      <td>0</td>\n",
       "      <td>0</td>\n",
       "      <td>0</td>\n",
       "      <td>0</td>\n",
       "      <td>0</td>\n",
       "      <td>0</td>\n",
       "      <td>0</td>\n",
       "      <td>0</td>\n",
       "      <td>0</td>\n",
       "      <td>68.000000</td>\n",
       "      <td>1.970629</td>\n",
       "      <td>48.000000</td>\n",
       "      <td>1.020000</td>\n",
       "      <td>47.000000</td>\n",
       "    </tr>\n",
       "    <tr>\n",
       "      <th>19</th>\n",
       "      <td>36</td>\n",
       "      <td>1.0</td>\n",
       "      <td>0</td>\n",
       "      <td>0</td>\n",
       "      <td>0</td>\n",
       "      <td>0</td>\n",
       "      <td>0</td>\n",
       "      <td>0</td>\n",
       "      <td>0</td>\n",
       "      <td>1</td>\n",
       "      <td>1</td>\n",
       "      <td>0</td>\n",
       "      <td>0</td>\n",
       "      <td>0</td>\n",
       "      <td>0</td>\n",
       "      <td>0</td>\n",
       "      <td>1.500000</td>\n",
       "      <td>2.400000</td>\n",
       "      <td>90.000000</td>\n",
       "      <td>1.060000</td>\n",
       "      <td>85.000000</td>\n",
       "    </tr>\n",
       "  </tbody>\n",
       "</table>\n",
       "</div>"
      ],
      "text/plain": [
       "    age  sex  on thyroxine  query on thyroxine  on antithyroid medication  \\\n",
       "0    29  1.0             0                   0                          0   \n",
       "1    29  1.0             0                   0                          0   \n",
       "2    41  1.0             0                   0                          0   \n",
       "3    36  1.0             0                   0                          0   \n",
       "4    32  1.0             0                   0                          0   \n",
       "5    60  1.0             0                   0                          0   \n",
       "6    77  1.0             0                   0                          0   \n",
       "7    28  1.0             0                   0                          0   \n",
       "8    28  1.0             0                   0                          0   \n",
       "9    28  1.0             0                   0                          0   \n",
       "10   54  1.0             0                   0                          0   \n",
       "11   42  1.0             0                   0                          0   \n",
       "12   51  0.0             1                   0                          0   \n",
       "13   51  1.0             0                   0                          0   \n",
       "14   37  1.0             0                   0                          0   \n",
       "15   16  0.0             0                   0                          0   \n",
       "16   54  1.0             0                   0                          0   \n",
       "17   43  0.0             0                   0                          0   \n",
       "18   63  1.0             1                   0                          0   \n",
       "19   36  1.0             0                   0                          0   \n",
       "\n",
       "    sick  pregnant  thyroid surgery  I131 treatment  query hypothyroid  \\\n",
       "0      0         0                0               0                  1   \n",
       "1      0         0                0               0                  0   \n",
       "2      0         0                0               0                  0   \n",
       "3      0         0                0               0                  0   \n",
       "4      0         0                0               0                  0   \n",
       "5      0         0                0               0                  0   \n",
       "6      0         0                0               0                  0   \n",
       "7      0         0                0               0                  0   \n",
       "8      0         0                0               0                  0   \n",
       "9      0         0                0               0                  0   \n",
       "10     0         0                0               0                  0   \n",
       "11     0         0                0               0                  0   \n",
       "12     0         0                0               0                  0   \n",
       "13     0         0                0               0                  0   \n",
       "14     0         0                0               0                  0   \n",
       "15     0         0                0               0                  0   \n",
       "16     0         0                0               0                  0   \n",
       "17     0         0                0               0                  0   \n",
       "18     1         0                0               0                  0   \n",
       "19     0         0                0               0                  1   \n",
       "\n",
       "    query hyperthyroid  lithium  goitre  tumor  hypopituitary  psych  \\\n",
       "0                    0        0       0      0              0      0   \n",
       "1                    0        0       0      0              0      0   \n",
       "2                    1        0       0      0              0      0   \n",
       "3                    0        0       0      0              0      0   \n",
       "4                    0        0       0      0              0      0   \n",
       "5                    0        0       0      0              0      0   \n",
       "6                    0        0       0      0              0      0   \n",
       "7                    0        0       0      0              0      0   \n",
       "8                    0        0       0      0              0      0   \n",
       "9                    0        0       0      0              0      0   \n",
       "10                   0        0       0      0              0      0   \n",
       "11                   0        0       0      0              0      0   \n",
       "12                   0        0       0      0              0      0   \n",
       "13                   0        0       0      0              0      0   \n",
       "14                   0        0       0      1              0      0   \n",
       "15                   0        0       0      0              0      0   \n",
       "16                   0        0       0      0              0      0   \n",
       "17                   0        0       0      0              0      0   \n",
       "18                   0        0       0      0              0      0   \n",
       "19                   1        0       0      0              0      0   \n",
       "\n",
       "          TSH        T3         TT4       T4U         FTI  \n",
       "0    0.300000  1.970629  108.700305  0.976056  113.640746  \n",
       "1    1.600000  1.900000  128.000000  0.976056  113.640746  \n",
       "2    5.218403  1.970629  108.700305  0.976056  113.640746  \n",
       "3    5.218403  1.970629  108.700305  0.976056  113.640746  \n",
       "4    5.218403  1.970629  108.700305  0.976056  113.640746  \n",
       "5    5.218403  1.970629  108.700305  0.976056  113.640746  \n",
       "6    5.218403  1.970629  108.700305  0.976056  113.640746  \n",
       "7    0.700000  2.600000  116.000000  0.976056  113.640746  \n",
       "8    1.200000  1.800000   76.000000  0.976056  113.640746  \n",
       "9    1.900000  1.700000   83.000000  0.976056  113.640746  \n",
       "10   1.900000  2.300000  133.000000  0.976056  113.640746  \n",
       "11   1.000000  1.800000  105.000000  0.976056  113.640746  \n",
       "12   0.500000  1.970629  108.700305  0.976056  113.640746  \n",
       "13   0.700000  2.400000  116.000000  0.976056  113.640746  \n",
       "14   5.218403  2.900000  108.700305  0.976056  113.640746  \n",
       "15   2.600000  1.970629  108.700305  0.976056  113.640746  \n",
       "16   1.000000  2.000000  122.000000  0.976056  113.640746  \n",
       "17   5.218403  2.100000  116.000000  0.976056  113.640746  \n",
       "18  68.000000  1.970629   48.000000  1.020000   47.000000  \n",
       "19   1.500000  2.400000   90.000000  1.060000   85.000000  "
      ]
     },
     "execution_count": 22,
     "metadata": {},
     "output_type": "execute_result"
    }
   ],
   "source": [
    "data.head(20)"
   ]
  },
  {
   "cell_type": "code",
   "execution_count": 23,
   "id": "4f829a7f",
   "metadata": {
    "execution": {
     "iopub.execute_input": "2022-10-19T05:59:32.773404Z",
     "iopub.status.busy": "2022-10-19T05:59:32.772902Z",
     "iopub.status.idle": "2022-10-19T05:59:32.792297Z",
     "shell.execute_reply": "2022-10-19T05:59:32.790893Z"
    },
    "papermill": {
     "duration": 0.035374,
     "end_time": "2022-10-19T05:59:32.795230",
     "exception": false,
     "start_time": "2022-10-19T05:59:32.759856",
     "status": "completed"
    },
    "tags": []
   },
   "outputs": [
    {
     "name": "stdout",
     "output_type": "stream",
     "text": [
      "<class 'pandas.core.frame.DataFrame'>\n",
      "Int64Index: 9172 entries, 0 to 9171\n",
      "Data columns (total 21 columns):\n",
      " #   Column                     Non-Null Count  Dtype  \n",
      "---  ------                     --------------  -----  \n",
      " 0   age                        9172 non-null   int64  \n",
      " 1   sex                        9172 non-null   float64\n",
      " 2   on thyroxine               9172 non-null   int64  \n",
      " 3   query on thyroxine         9172 non-null   int64  \n",
      " 4   on antithyroid medication  9172 non-null   int64  \n",
      " 5   sick                       9172 non-null   int64  \n",
      " 6   pregnant                   9172 non-null   int64  \n",
      " 7   thyroid surgery            9172 non-null   int64  \n",
      " 8   I131 treatment             9172 non-null   int64  \n",
      " 9   query hypothyroid          9172 non-null   int64  \n",
      " 10  query hyperthyroid         9172 non-null   int64  \n",
      " 11  lithium                    9172 non-null   int64  \n",
      " 12  goitre                     9172 non-null   int64  \n",
      " 13  tumor                      9172 non-null   int64  \n",
      " 14  hypopituitary              9172 non-null   int64  \n",
      " 15  psych                      9172 non-null   int64  \n",
      " 16  TSH                        9172 non-null   float64\n",
      " 17  T3                         9172 non-null   float64\n",
      " 18  TT4                        9172 non-null   float64\n",
      " 19  T4U                        9172 non-null   float64\n",
      " 20  FTI                        9172 non-null   float64\n",
      "dtypes: float64(6), int64(15)\n",
      "memory usage: 1.5 MB\n"
     ]
    }
   ],
   "source": [
    "data.info()"
   ]
  },
  {
   "cell_type": "markdown",
   "id": "bdfb109b",
   "metadata": {
    "papermill": {
     "duration": 0.011394,
     "end_time": "2022-10-19T05:59:32.818701",
     "exception": false,
     "start_time": "2022-10-19T05:59:32.807307",
     "status": "completed"
    },
    "tags": []
   },
   "source": [
    "# Model_building"
   ]
  },
  {
   "cell_type": "code",
   "execution_count": 24,
   "id": "c115cc11",
   "metadata": {
    "execution": {
     "iopub.execute_input": "2022-10-19T05:59:32.845450Z",
     "iopub.status.busy": "2022-10-19T05:59:32.844631Z",
     "iopub.status.idle": "2022-10-19T05:59:32.850435Z",
     "shell.execute_reply": "2022-10-19T05:59:32.849438Z"
    },
    "papermill": {
     "duration": 0.022222,
     "end_time": "2022-10-19T05:59:32.852854",
     "exception": false,
     "start_time": "2022-10-19T05:59:32.830632",
     "status": "completed"
    },
    "tags": []
   },
   "outputs": [],
   "source": [
    "data['sex'] = data['sex'].astype('int')"
   ]
  },
  {
   "cell_type": "code",
   "execution_count": 25,
   "id": "82986fe4",
   "metadata": {
    "execution": {
     "iopub.execute_input": "2022-10-19T05:59:32.879064Z",
     "iopub.status.busy": "2022-10-19T05:59:32.877896Z",
     "iopub.status.idle": "2022-10-19T05:59:32.882832Z",
     "shell.execute_reply": "2022-10-19T05:59:32.881884Z"
    },
    "papermill": {
     "duration": 0.020225,
     "end_time": "2022-10-19T05:59:32.885155",
     "exception": false,
     "start_time": "2022-10-19T05:59:32.864930",
     "status": "completed"
    },
    "tags": []
   },
   "outputs": [],
   "source": [
    "x = data"
   ]
  },
  {
   "cell_type": "code",
   "execution_count": 26,
   "id": "58b507e5",
   "metadata": {
    "execution": {
     "iopub.execute_input": "2022-10-19T05:59:32.910938Z",
     "iopub.status.busy": "2022-10-19T05:59:32.909845Z",
     "iopub.status.idle": "2022-10-19T05:59:32.921120Z",
     "shell.execute_reply": "2022-10-19T05:59:32.920136Z"
    },
    "papermill": {
     "duration": 0.026484,
     "end_time": "2022-10-19T05:59:32.923409",
     "exception": false,
     "start_time": "2022-10-19T05:59:32.896925",
     "status": "completed"
    },
    "tags": []
   },
   "outputs": [
    {
     "data": {
      "text/plain": [
       "array([ 0,  0,  0, ..., 16,  0,  0])"
      ]
     },
     "execution_count": 26,
     "metadata": {},
     "output_type": "execute_result"
    }
   ],
   "source": [
    "from sklearn.preprocessing import LabelEncoder\n",
    "label = LabelEncoder()\n",
    "y = label.fit_transform(y)\n",
    "y"
   ]
  },
  {
   "cell_type": "code",
   "execution_count": 27,
   "id": "fbc1589b",
   "metadata": {
    "execution": {
     "iopub.execute_input": "2022-10-19T05:59:32.950095Z",
     "iopub.status.busy": "2022-10-19T05:59:32.949136Z",
     "iopub.status.idle": "2022-10-19T05:59:32.956623Z",
     "shell.execute_reply": "2022-10-19T05:59:32.955414Z"
    },
    "papermill": {
     "duration": 0.023338,
     "end_time": "2022-10-19T05:59:32.958950",
     "exception": false,
     "start_time": "2022-10-19T05:59:32.935612",
     "status": "completed"
    },
    "tags": []
   },
   "outputs": [
    {
     "data": {
      "text/plain": [
       "array([ 0,  0,  0, ..., 16,  0,  0])"
      ]
     },
     "execution_count": 27,
     "metadata": {},
     "output_type": "execute_result"
    }
   ],
   "source": [
    "y"
   ]
  },
  {
   "cell_type": "code",
   "execution_count": 28,
   "id": "3c339fd2",
   "metadata": {
    "execution": {
     "iopub.execute_input": "2022-10-19T05:59:32.985113Z",
     "iopub.status.busy": "2022-10-19T05:59:32.984257Z",
     "iopub.status.idle": "2022-10-19T05:59:32.993809Z",
     "shell.execute_reply": "2022-10-19T05:59:32.992893Z"
    },
    "papermill": {
     "duration": 0.025403,
     "end_time": "2022-10-19T05:59:32.996427",
     "exception": false,
     "start_time": "2022-10-19T05:59:32.971024",
     "status": "completed"
    },
    "tags": []
   },
   "outputs": [],
   "source": [
    "from sklearn.model_selection import train_test_split\n",
    "\n",
    "x_train,x_test,y_train,y_test = train_test_split(x,y,test_size= 0.33,random_state= 42)\n"
   ]
  },
  {
   "cell_type": "code",
   "execution_count": 29,
   "id": "5778d07f",
   "metadata": {
    "execution": {
     "iopub.execute_input": "2022-10-19T05:59:33.022751Z",
     "iopub.status.busy": "2022-10-19T05:59:33.022003Z",
     "iopub.status.idle": "2022-10-19T05:59:33.032115Z",
     "shell.execute_reply": "2022-10-19T05:59:33.030456Z"
    },
    "papermill": {
     "duration": 0.026397,
     "end_time": "2022-10-19T05:59:33.034782",
     "exception": false,
     "start_time": "2022-10-19T05:59:33.008385",
     "status": "completed"
    },
    "tags": []
   },
   "outputs": [
    {
     "data": {
      "text/plain": [
       "0     6771\n",
       "18     436\n",
       "11     359\n",
       "16     346\n",
       "9      233\n",
       "30     196\n",
       "1      147\n",
       "20     115\n",
       "22     111\n",
       "25     110\n",
       "31      85\n",
       "13      49\n",
       "2       46\n",
       "17      30\n",
       "3       21\n",
       "24      16\n",
       "29      14\n",
       "26      14\n",
       "5       12\n",
       "19      11\n",
       "12      10\n",
       "15       8\n",
       "6        8\n",
       "10       6\n",
       "4        6\n",
       "28       5\n",
       "23       2\n",
       "21       1\n",
       "14       1\n",
       "27       1\n",
       "7        1\n",
       "8        1\n",
       "dtype: int64"
      ]
     },
     "execution_count": 29,
     "metadata": {},
     "output_type": "execute_result"
    }
   ],
   "source": [
    "y = pd.Series(y)\n",
    "y.value_counts()"
   ]
  },
  {
   "cell_type": "code",
   "execution_count": 30,
   "id": "400ad410",
   "metadata": {
    "execution": {
     "iopub.execute_input": "2022-10-19T05:59:33.061225Z",
     "iopub.status.busy": "2022-10-19T05:59:33.060564Z",
     "iopub.status.idle": "2022-10-19T05:59:33.067460Z",
     "shell.execute_reply": "2022-10-19T05:59:33.066431Z"
    },
    "papermill": {
     "duration": 0.02265,
     "end_time": "2022-10-19T05:59:33.069667",
     "exception": false,
     "start_time": "2022-10-19T05:59:33.047017",
     "status": "completed"
    },
    "tags": []
   },
   "outputs": [
    {
     "data": {
      "text/plain": [
       "array([ 0,  0,  0, ...,  0, 11,  9])"
      ]
     },
     "execution_count": 30,
     "metadata": {},
     "output_type": "execute_result"
    }
   ],
   "source": [
    "y_train"
   ]
  },
  {
   "cell_type": "code",
   "execution_count": 31,
   "id": "92157baf",
   "metadata": {
    "execution": {
     "iopub.execute_input": "2022-10-19T05:59:33.095804Z",
     "iopub.status.busy": "2022-10-19T05:59:33.095079Z",
     "iopub.status.idle": "2022-10-19T06:00:16.886554Z",
     "shell.execute_reply": "2022-10-19T06:00:16.885007Z"
    },
    "papermill": {
     "duration": 43.810897,
     "end_time": "2022-10-19T06:00:16.892474",
     "exception": false,
     "start_time": "2022-10-19T05:59:33.081577",
     "status": "completed"
    },
    "tags": []
   },
   "outputs": [
    {
     "data": {
      "text/plain": [
       "{'Decision_tree': 0.9091509745622729,\n",
       " 'KNN_classfiier': 0.7793194582094483,\n",
       " 'Rand_forest': 0.9137760158572844,\n",
       " 'Grad_class': 0.8995705318797489,\n",
       " 'XGB': 0.9207135777998018}"
      ]
     },
     "execution_count": 31,
     "metadata": {},
     "output_type": "execute_result"
    }
   ],
   "source": [
    "from sklearn.tree import DecisionTreeClassifier\n",
    "from sklearn.neighbors import KNeighborsClassifier\n",
    "from sklearn.ensemble import RandomForestClassifier,GradientBoostingClassifier\n",
    "from xgboost import XGBClassifier\n",
    "from sklearn.metrics import accuracy_score,classification_report\n",
    "\n",
    "\n",
    "model_dict = {'Decision_tree':DecisionTreeClassifier,'KNN_classfiier':KNeighborsClassifier,'Rand_forest':RandomForestClassifier,\n",
    "              'Grad_class': GradientBoostingClassifier,'XGB':XGBClassifier}\n",
    "def scores_models(model_dict,xtrain,x_test,y_train,y_test):\n",
    "\n",
    "    \n",
    "    score_d = {}\n",
    "    for i in model_dict:\n",
    "        model = model_dict[i]()\n",
    "        model.fit(x_train,y_train)\n",
    "        y_preds = model.predict(x_test)\n",
    "        score_d[i] = accuracy_score(y_test,y_preds)\n",
    "    \n",
    "    return score_d\n",
    "\n",
    "scores_models(model_dict,x_train,x_test,y_train,y_test)"
   ]
  },
  {
   "cell_type": "code",
   "execution_count": 32,
   "id": "4e8e1670",
   "metadata": {
    "execution": {
     "iopub.execute_input": "2022-10-19T06:00:16.918490Z",
     "iopub.status.busy": "2022-10-19T06:00:16.918061Z",
     "iopub.status.idle": "2022-10-19T06:00:22.735441Z",
     "shell.execute_reply": "2022-10-19T06:00:22.734396Z"
    },
    "papermill": {
     "duration": 5.833821,
     "end_time": "2022-10-19T06:00:22.738317",
     "exception": false,
     "start_time": "2022-10-19T06:00:16.904496",
     "status": "completed"
    },
    "tags": []
   },
   "outputs": [
    {
     "data": {
      "text/plain": [
       "0.9207135777998018"
      ]
     },
     "execution_count": 32,
     "metadata": {},
     "output_type": "execute_result"
    }
   ],
   "source": [
    "model = XGBClassifier()\n",
    "model.fit(x_train,y_train)\n",
    "y_preds = model.predict(x_test)\n",
    "accuracy_score(y_test,y_preds)"
   ]
  },
  {
   "cell_type": "code",
   "execution_count": 33,
   "id": "b8e1e9e5",
   "metadata": {
    "execution": {
     "iopub.execute_input": "2022-10-19T06:00:22.766628Z",
     "iopub.status.busy": "2022-10-19T06:00:22.766160Z",
     "iopub.status.idle": "2022-10-19T06:00:22.773833Z",
     "shell.execute_reply": "2022-10-19T06:00:22.772886Z"
    },
    "papermill": {
     "duration": 0.02372,
     "end_time": "2022-10-19T06:00:22.776238",
     "exception": false,
     "start_time": "2022-10-19T06:00:22.752518",
     "status": "completed"
    },
    "tags": []
   },
   "outputs": [],
   "source": [
    "feat_values = model.feature_importances_"
   ]
  },
  {
   "cell_type": "code",
   "execution_count": 34,
   "id": "6fc79001",
   "metadata": {
    "execution": {
     "iopub.execute_input": "2022-10-19T06:00:22.803513Z",
     "iopub.status.busy": "2022-10-19T06:00:22.802238Z",
     "iopub.status.idle": "2022-10-19T06:00:22.809743Z",
     "shell.execute_reply": "2022-10-19T06:00:22.808650Z"
    },
    "papermill": {
     "duration": 0.023341,
     "end_time": "2022-10-19T06:00:22.811922",
     "exception": false,
     "start_time": "2022-10-19T06:00:22.788581",
     "status": "completed"
    },
    "tags": []
   },
   "outputs": [
    {
     "data": {
      "text/plain": [
       "21"
      ]
     },
     "execution_count": 34,
     "metadata": {},
     "output_type": "execute_result"
    }
   ],
   "source": [
    "len(x.columns)"
   ]
  },
  {
   "cell_type": "code",
   "execution_count": 35,
   "id": "04372eff",
   "metadata": {
    "execution": {
     "iopub.execute_input": "2022-10-19T06:00:22.839042Z",
     "iopub.status.busy": "2022-10-19T06:00:22.837934Z",
     "iopub.status.idle": "2022-10-19T06:00:22.848226Z",
     "shell.execute_reply": "2022-10-19T06:00:22.847360Z"
    },
    "papermill": {
     "duration": 0.026343,
     "end_time": "2022-10-19T06:00:22.850549",
     "exception": false,
     "start_time": "2022-10-19T06:00:22.824206",
     "status": "completed"
    },
    "tags": []
   },
   "outputs": [],
   "source": [
    "def plot_feature_importance(model):\n",
    "    importances = model.feature_importances_\n",
    "    feature_names = model.feature_names_in_\n",
    "    def sort_key(x): return importances[list(feature_names).index(x)]\n",
    "    feature_names = sorted(feature_names, key=sort_key, reverse=True)\n",
    "    importances = sorted(importances, reverse=True)\n",
    "\n",
    "    sns.set(rc={'figure.figsize': (10, 5)})\n",
    "    ax = sns.barplot(x=feature_names, y=importances, )\n",
    "    patches = ax.patches\n",
    "    for i in range(len(patches)):\n",
    "        x = patches[i].get_x() + patches[i].get_width()/2\n",
    "        y = patches[i].get_height()+0.01\n",
    "        ax.annotate('{:.1f}%'.format(importances[i]*100), (x, y), ha='center')\n",
    "    plt.xticks(rotation=90)\n",
    "               \n",
    "    sns.pointplot(x=feature_names, y=np.cumsum(importances), )"
   ]
  },
  {
   "cell_type": "code",
   "execution_count": 36,
   "id": "0ec790b7",
   "metadata": {
    "execution": {
     "iopub.execute_input": "2022-10-19T06:00:22.877654Z",
     "iopub.status.busy": "2022-10-19T06:00:22.876696Z",
     "iopub.status.idle": "2022-10-19T06:00:23.438551Z",
     "shell.execute_reply": "2022-10-19T06:00:23.437094Z"
    },
    "papermill": {
     "duration": 0.578443,
     "end_time": "2022-10-19T06:00:23.441311",
     "exception": false,
     "start_time": "2022-10-19T06:00:22.862868",
     "status": "completed"
    },
    "tags": []
   },
   "outputs": [
    {
     "data": {
      "image/png": "[encoded data removed]",
      "text/plain": [
       "<Figure size 720x360 with 1 Axes>"
      ]
     },
     "metadata": {},
     "output_type": "display_data"
    }
   ],
   "source": [
    "plot_feature_importance(model)"
   ]
  }
 ],
 "metadata": {
  "kernelspec": {
   "display_name": "Python 3",
   "language": "python",
   "name": "python3"
  },
  "language_info": {
   "codemirror_mode": {
    "name": "ipython",
    "version": 3
   },
   "file_extension": ".py",
   "mimetype": "text/x-python",
   "name": "python",
   "nbconvert_exporter": "python",
   "pygments_lexer": "ipython3",
   "version": "3.7.12"
  },
  "papermill": {
   "default_parameters": {},
   "duration": 67.576788,
   "end_time": "2022-10-19T06:00:24.279412",
   "environment_variables": {},
   "exception": null,
   "input_path": "__notebook__.ipynb",
   "output_path": "__notebook__.ipynb",
   "parameters": {},
   "start_time": "2022-10-19T05:59:16.702624",
   "version": "2.3.4"
  }
 },
 "nbformat": 4,
 "nbformat_minor": 5
}
